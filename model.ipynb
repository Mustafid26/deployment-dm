{
 "cells": [
  {
   "cell_type": "markdown",
   "metadata": {},
   "source": [
    "# **Proyek Klasifikasi Gambar dengan CNN**"
   ]
  },
  {
   "cell_type": "markdown",
   "metadata": {},
   "source": [
    "---\n",
    "\n",
    "## **Environment**\n",
    "- **Bahasa Pemrograman**: Python\n",
    "- **Framework**: TensorFlow dan Keras\n",
    "- **Dataset**: Dataset gambar dengan kategori sampah\n",
    "\n",
    "---"
   ]
  },
  {
   "cell_type": "markdown",
   "metadata": {},
   "source": [
    "## **Tahapan Implementasi**\n"
   ]
  },
  {
   "cell_type": "code",
   "execution_count": 35,
   "metadata": {},
   "outputs": [],
   "source": [
    "import os\n",
    "import tensorflow as tf\n",
    "from tensorflow.keras.preprocessing.image import ImageDataGenerator\n",
    "from tensorflow.keras import Input\n",
    "from tensorflow.keras.models import Sequential, Model\n",
    "from tensorflow.keras.layers import Conv2D, MaxPooling2D, Flatten, Dense, Dropout\n",
    "from tensorflow.keras.applications import ResNet50\n",
    "from tensorflow.keras.callbacks import EarlyStopping\n",
    "import shutil\n",
    "import joblib\n",
    "from sklearn.model_selection import train_test_split"
   ]
  },
  {
   "cell_type": "markdown",
   "metadata": {},
   "source": [
    "Tahap pertama adalah membagi dataset menjadi dua bagian utama:\n",
    "- **Training Set**: Digunakan untuk melatih model, mencakup 80% dari total data.\n",
    "- **Validation Set**: Digunakan untuk mengevaluasi performa model selama pelatihan, mencakup 20% dari total data.\n",
    "\n",
    "Pembagian dataset dilakukan secara terstruktur ke dalam folder sesuai kategori, sehingga setiap kategori memiliki direktori terpisah untuk data pelatihan dan validasi. Struktur ini membantu dalam proses pemuatan data oleh generator gambar.\n"
   ]
  },
  {
   "cell_type": "code",
   "execution_count": 20,
   "metadata": {},
   "outputs": [],
   "source": [
    "# Path dataset asli\n",
    "original_dataset_dir = \"dataset\" \n",
    "output_train_dir = \"dataset_split/train\"\n",
    "output_val_dir = \"dataset_split/validation\""
   ]
  },
  {
   "cell_type": "code",
   "execution_count": 21,
   "metadata": {},
   "outputs": [],
   "source": [
    "os.makedirs(output_train_dir, exist_ok=True)\n",
    "os.makedirs(output_val_dir, exist_ok=True)"
   ]
  },
  {
   "cell_type": "code",
   "execution_count": 22,
   "metadata": {},
   "outputs": [
    {
     "name": "stdout",
     "output_type": "stream",
     "text": [
      "Berhasil split dataset\n"
     ]
    }
   ],
   "source": [
    "categories = os.listdir(original_dataset_dir)  # Folder kategori\n",
    "for category in categories:\n",
    "    category_path = os.path.join(original_dataset_dir, category)\n",
    "    if not os.path.isdir(category_path):\n",
    "        continue\n",
    "\n",
    "    # Ambil semua file dalam kategori\n",
    "    images = os.listdir(category_path)\n",
    "\n",
    "    # Split dataset menjadi train dan validation (80%-20%)\n",
    "    train_images, val_images = train_test_split(images, test_size=0.2, random_state=42)\n",
    "\n",
    "    # Path output untuk setiap kategori\n",
    "    train_category_dir = os.path.join(output_train_dir, category)\n",
    "    val_category_dir = os.path.join(output_val_dir, category)\n",
    "\n",
    "    # Membuat folder kategori di train dan validation\n",
    "    os.makedirs(train_category_dir, exist_ok=True)\n",
    "    os.makedirs(val_category_dir, exist_ok=True)\n",
    "\n",
    "    # Pindahkan file ke folder train\n",
    "    for image in train_images:\n",
    "        src = os.path.join(category_path, image)\n",
    "        dst = os.path.join(train_category_dir, image)\n",
    "        shutil.copy(src, dst)\n",
    "\n",
    "    # Pindahkan file ke folder validation\n",
    "    for image in val_images:\n",
    "        src = os.path.join(category_path, image)\n",
    "        dst = os.path.join(val_category_dir, image)\n",
    "        shutil.copy(src, dst)\n",
    "\n",
    "print(\"Berhasil split dataset\")"
   ]
  },
  {
   "cell_type": "markdown",
   "metadata": {},
   "source": [
    "## **2. Preprocessing Dataset**\n",
    "Setelah dataset dibagi, langkah berikutnya adalah melakukan preprocessing pada gambar. Beberapa langkah penting meliputi:\n",
    "- **Rescaling**: Nilai piksel gambar dirubah menjadi skala 0-1 untuk mempercepat pelatihan.\n",
    "- **Augmentasi Data**: Gambar dilatih dengan berbagai transformasi (rotasi, zoom, flipping) untuk meningkatkan kemampuan generalisasi model.\n",
    "\n",
    "Hasil preprocessing ini dihasilkan oleh generator gambar seperti `ImageDataGenerator` yang mendukung augmentasi real-time selama pelatihan.\n",
    "\n",
    "---"
   ]
  },
  {
   "cell_type": "code",
   "execution_count": 23,
   "metadata": {},
   "outputs": [],
   "source": [
    "# tinggi\n",
    "IMG_HEIGHT = 128\n",
    "#lebar\n",
    "IMG_WIDTH = 128\n",
    "#jumlah gambar\n",
    "BATCH_SIZE = 32"
   ]
  },
  {
   "cell_type": "code",
   "execution_count": 24,
   "metadata": {},
   "outputs": [],
   "source": [
    "# preprocessing\n",
    "train_datagen = ImageDataGenerator(\n",
    "    rescale=1.0/255.0,\n",
    "    rotation_range=30,\n",
    "    width_shift_range=0.3,\n",
    "    height_shift_range=0.3,\n",
    "    shear_range=0.2,\n",
    "    zoom_range=0.3,\n",
    "    horizontal_flip=True,\n",
    "    brightness_range=[0.8, 1.2]\n",
    ")"
   ]
  },
  {
   "cell_type": "code",
   "execution_count": 25,
   "metadata": {},
   "outputs": [],
   "source": [
    "val_datagen = ImageDataGenerator(rescale=1.0/255.0)"
   ]
  },
  {
   "cell_type": "code",
   "execution_count": 26,
   "metadata": {},
   "outputs": [
    {
     "name": "stdout",
     "output_type": "stream",
     "text": [
      "Found 2019 images belonging to 6 classes.\n"
     ]
    }
   ],
   "source": [
    "# load dataset\n",
    "train_data = train_datagen.flow_from_directory(\n",
    "    output_train_dir,\n",
    "    target_size=(IMG_HEIGHT, IMG_WIDTH),\n",
    "    batch_size=BATCH_SIZE,\n",
    "    class_mode='categorical'\n",
    ")"
   ]
  },
  {
   "cell_type": "code",
   "execution_count": 27,
   "metadata": {},
   "outputs": [
    {
     "name": "stdout",
     "output_type": "stream",
     "text": [
      "Found 508 images belonging to 6 classes.\n"
     ]
    }
   ],
   "source": [
    "val_data = val_datagen.flow_from_directory(\n",
    "    output_val_dir,\n",
    "    target_size=(IMG_HEIGHT, IMG_WIDTH),\n",
    "    batch_size=BATCH_SIZE,\n",
    "    class_mode='categorical'\n",
    ")"
   ]
  },
  {
   "cell_type": "markdown",
   "metadata": {},
   "source": [
    "## **3. Membangun Model CNN**\n",
    "Model CNN dirancang dengan beberapa lapisan utama:\n",
    "1. **Convolutional Layers**: Untuk mengekstraksi fitur dari gambar menggunakan filter yang bergerak di atas gambar.\n",
    "2. **Pooling Layers**: Mengurangi dimensi data sambil mempertahankan informasi penting.\n",
    "3. **Fully Connected Layers**: Lapisan akhir untuk menghasilkan prediksi berdasarkan fitur yang diekstraksi.\n",
    "\n",
    "Arsitektur model disusun dengan filter bertahap yang meningkatkan kompleksitas, diikuti dengan dropout untuk mencegah overfitting.\n",
    "\n",
    "---"
   ]
  },
  {
   "cell_type": "code",
   "execution_count": 28,
   "metadata": {},
   "outputs": [],
   "source": [
    "# model CNN\n",
    "model = Sequential([\n",
    "    Input(shape=(IMG_HEIGHT, IMG_WIDTH, 3)),\n",
    "    Conv2D(32, (3, 3), activation='relu'),\n",
    "    MaxPooling2D(pool_size=(2, 2)),\n",
    "\n",
    "    Conv2D(64, (3, 3), activation='relu'),\n",
    "    MaxPooling2D(pool_size=(2, 2)),\n",
    "\n",
    "    Conv2D(128, (3, 3), activation='relu'),\n",
    "    MaxPooling2D(pool_size=(2, 2)),\n",
    "\n",
    "    Conv2D(256, (3, 3), activation='relu'),\n",
    "    MaxPooling2D(pool_size=(2, 2)),\n",
    "\n",
    "    Flatten(),\n",
    "    Dense(256, activation='relu'),\n",
    "    Dropout(0.5),\n",
    "    Dense(6, activation='softmax')  # 6 kategori sampah\n",
    "])\n",
    "\n",
    "model.compile(optimizer='adam',\n",
    "              loss='categorical_crossentropy',\n",
    "              metrics=['accuracy'])"
   ]
  },
  {
   "cell_type": "markdown",
   "metadata": {},
   "source": [
    "## **4. Melatih Model**\n",
    "Pada tahap ini:\n",
    "- Dataset yang telah diproses digunakan untuk melatih model.\n",
    "- Callback seperti **Early Stopping** digunakan untuk menghentikan pelatihan jika validasi loss tidak membaik dalam beberapa epoch, sehingga mencegah overfitting.\n",
    "- Proses pelatihan dilakukan untuk beberapa epoch hingga model mencapai akurasi yang memadai.\n",
    "\n",
    "---"
   ]
  },
  {
   "cell_type": "code",
   "execution_count": 29,
   "metadata": {},
   "outputs": [
    {
     "name": "stdout",
     "output_type": "stream",
     "text": [
      "Epoch 1/50\n",
      "\u001b[1m64/64\u001b[0m \u001b[32m━━━━━━━━━━━━━━━━━━━━\u001b[0m\u001b[37m\u001b[0m \u001b[1m27s\u001b[0m 401ms/step - accuracy: 0.2018 - loss: 1.7572 - val_accuracy: 0.2933 - val_loss: 1.7022\n",
      "Epoch 2/50\n",
      "\u001b[1m64/64\u001b[0m \u001b[32m━━━━━━━━━━━━━━━━━━━━\u001b[0m\u001b[37m\u001b[0m \u001b[1m12s\u001b[0m 189ms/step - accuracy: 0.3274 - loss: 1.6016 - val_accuracy: 0.3386 - val_loss: 1.5521\n",
      "Epoch 3/50\n",
      "\u001b[1m64/64\u001b[0m \u001b[32m━━━━━━━━━━━━━━━━━━━━\u001b[0m\u001b[37m\u001b[0m \u001b[1m12s\u001b[0m 188ms/step - accuracy: 0.3449 - loss: 1.5477 - val_accuracy: 0.3740 - val_loss: 1.5433\n",
      "Epoch 4/50\n",
      "\u001b[1m64/64\u001b[0m \u001b[32m━━━━━━━━━━━━━━━━━━━━\u001b[0m\u001b[37m\u001b[0m \u001b[1m9s\u001b[0m 148ms/step - accuracy: 0.3603 - loss: 1.5178 - val_accuracy: 0.4016 - val_loss: 1.4271\n",
      "Epoch 5/50\n",
      "\u001b[1m64/64\u001b[0m \u001b[32m━━━━━━━━━━━━━━━━━━━━\u001b[0m\u001b[37m\u001b[0m \u001b[1m9s\u001b[0m 147ms/step - accuracy: 0.4122 - loss: 1.4343 - val_accuracy: 0.4035 - val_loss: 1.3924\n",
      "Epoch 6/50\n",
      "\u001b[1m64/64\u001b[0m \u001b[32m━━━━━━━━━━━━━━━━━━━━\u001b[0m\u001b[37m\u001b[0m \u001b[1m10s\u001b[0m 152ms/step - accuracy: 0.4212 - loss: 1.3768 - val_accuracy: 0.3937 - val_loss: 1.4711\n",
      "Epoch 7/50\n",
      "\u001b[1m64/64\u001b[0m \u001b[32m━━━━━━━━━━━━━━━━━━━━\u001b[0m\u001b[37m\u001b[0m \u001b[1m12s\u001b[0m 191ms/step - accuracy: 0.4481 - loss: 1.3807 - val_accuracy: 0.4980 - val_loss: 1.3099\n",
      "Epoch 8/50\n",
      "\u001b[1m64/64\u001b[0m \u001b[32m━━━━━━━━━━━━━━━━━━━━\u001b[0m\u001b[37m\u001b[0m \u001b[1m11s\u001b[0m 165ms/step - accuracy: 0.4844 - loss: 1.3289 - val_accuracy: 0.4134 - val_loss: 1.6723\n",
      "Epoch 9/50\n",
      "\u001b[1m64/64\u001b[0m \u001b[32m━━━━━━━━━━━━━━━━━━━━\u001b[0m\u001b[37m\u001b[0m \u001b[1m11s\u001b[0m 175ms/step - accuracy: 0.4919 - loss: 1.3177 - val_accuracy: 0.4764 - val_loss: 1.3439\n",
      "Epoch 10/50\n",
      "\u001b[1m64/64\u001b[0m \u001b[32m━━━━━━━━━━━━━━━━━━━━\u001b[0m\u001b[37m\u001b[0m \u001b[1m10s\u001b[0m 160ms/step - accuracy: 0.4681 - loss: 1.3540 - val_accuracy: 0.5571 - val_loss: 1.1912\n",
      "Epoch 11/50\n",
      "\u001b[1m64/64\u001b[0m \u001b[32m━━━━━━━━━━━━━━━━━━━━\u001b[0m\u001b[37m\u001b[0m \u001b[1m11s\u001b[0m 178ms/step - accuracy: 0.5165 - loss: 1.2165 - val_accuracy: 0.5000 - val_loss: 1.1987\n",
      "Epoch 12/50\n",
      "\u001b[1m64/64\u001b[0m \u001b[32m━━━━━━━━━━━━━━━━━━━━\u001b[0m\u001b[37m\u001b[0m \u001b[1m11s\u001b[0m 177ms/step - accuracy: 0.5322 - loss: 1.2294 - val_accuracy: 0.5689 - val_loss: 1.1302\n",
      "Epoch 13/50\n",
      "\u001b[1m64/64\u001b[0m \u001b[32m━━━━━━━━━━━━━━━━━━━━\u001b[0m\u001b[37m\u001b[0m \u001b[1m11s\u001b[0m 172ms/step - accuracy: 0.5568 - loss: 1.1196 - val_accuracy: 0.5630 - val_loss: 1.1177\n",
      "Epoch 14/50\n",
      "\u001b[1m64/64\u001b[0m \u001b[32m━━━━━━━━━━━━━━━━━━━━\u001b[0m\u001b[37m\u001b[0m \u001b[1m10s\u001b[0m 158ms/step - accuracy: 0.5588 - loss: 1.1441 - val_accuracy: 0.5512 - val_loss: 1.1940\n",
      "Epoch 15/50\n",
      "\u001b[1m64/64\u001b[0m \u001b[32m━━━━━━━━━━━━━━━━━━━━\u001b[0m\u001b[37m\u001b[0m \u001b[1m10s\u001b[0m 162ms/step - accuracy: 0.5921 - loss: 1.0905 - val_accuracy: 0.5689 - val_loss: 1.0908\n",
      "Epoch 16/50\n",
      "\u001b[1m64/64\u001b[0m \u001b[32m━━━━━━━━━━━━━━━━━━━━\u001b[0m\u001b[37m\u001b[0m \u001b[1m10s\u001b[0m 157ms/step - accuracy: 0.5689 - loss: 1.0653 - val_accuracy: 0.5177 - val_loss: 1.1788\n",
      "Epoch 17/50\n",
      "\u001b[1m64/64\u001b[0m \u001b[32m━━━━━━━━━━━━━━━━━━━━\u001b[0m\u001b[37m\u001b[0m \u001b[1m10s\u001b[0m 156ms/step - accuracy: 0.5580 - loss: 1.1398 - val_accuracy: 0.6102 - val_loss: 1.0160\n",
      "Epoch 18/50\n",
      "\u001b[1m64/64\u001b[0m \u001b[32m━━━━━━━━━━━━━━━━━━━━\u001b[0m\u001b[37m\u001b[0m \u001b[1m10s\u001b[0m 156ms/step - accuracy: 0.5966 - loss: 1.0619 - val_accuracy: 0.5866 - val_loss: 1.0361\n",
      "Epoch 19/50\n",
      "\u001b[1m64/64\u001b[0m \u001b[32m━━━━━━━━━━━━━━━━━━━━\u001b[0m\u001b[37m\u001b[0m \u001b[1m10s\u001b[0m 160ms/step - accuracy: 0.5769 - loss: 1.0838 - val_accuracy: 0.5276 - val_loss: 1.1813\n",
      "Epoch 20/50\n",
      "\u001b[1m64/64\u001b[0m \u001b[32m━━━━━━━━━━━━━━━━━━━━\u001b[0m\u001b[37m\u001b[0m \u001b[1m10s\u001b[0m 163ms/step - accuracy: 0.5991 - loss: 1.0304 - val_accuracy: 0.6142 - val_loss: 0.9941\n",
      "Epoch 21/50\n",
      "\u001b[1m64/64\u001b[0m \u001b[32m━━━━━━━━━━━━━━━━━━━━\u001b[0m\u001b[37m\u001b[0m \u001b[1m12s\u001b[0m 183ms/step - accuracy: 0.5756 - loss: 1.1122 - val_accuracy: 0.6122 - val_loss: 1.0219\n",
      "Epoch 22/50\n",
      "\u001b[1m64/64\u001b[0m \u001b[32m━━━━━━━━━━━━━━━━━━━━\u001b[0m\u001b[37m\u001b[0m \u001b[1m11s\u001b[0m 167ms/step - accuracy: 0.5828 - loss: 1.0526 - val_accuracy: 0.5846 - val_loss: 1.0577\n",
      "Epoch 23/50\n",
      "\u001b[1m64/64\u001b[0m \u001b[32m━━━━━━━━━━━━━━━━━━━━\u001b[0m\u001b[37m\u001b[0m \u001b[1m11s\u001b[0m 175ms/step - accuracy: 0.6037 - loss: 1.0420 - val_accuracy: 0.5650 - val_loss: 1.1534\n",
      "Epoch 24/50\n",
      "\u001b[1m64/64\u001b[0m \u001b[32m━━━━━━━━━━━━━━━━━━━━\u001b[0m\u001b[37m\u001b[0m \u001b[1m11s\u001b[0m 177ms/step - accuracy: 0.4968 - loss: 1.2500 - val_accuracy: 0.5118 - val_loss: 1.2208\n",
      "Epoch 25/50\n",
      "\u001b[1m64/64\u001b[0m \u001b[32m━━━━━━━━━━━━━━━━━━━━\u001b[0m\u001b[37m\u001b[0m \u001b[1m10s\u001b[0m 162ms/step - accuracy: 0.5361 - loss: 1.1620 - val_accuracy: 0.5197 - val_loss: 1.2585\n"
     ]
    }
   ],
   "source": [
    "# Callback untuk menghentikan pelatihan jika validasi tidak meningkat\n",
    "early_stopping = EarlyStopping(monitor='val_loss', patience=5, restore_best_weights=True)\n",
    "\n",
    "# Training model\n",
    "history = model.fit(\n",
    "    train_data,\n",
    "    validation_data=val_data,\n",
    "    epochs=50,\n",
    "    batch_size=BATCH_SIZE,\n",
    "    callbacks=[early_stopping]\n",
    ")"
   ]
  },
  {
   "cell_type": "markdown",
   "metadata": {},
   "source": [
    "## **5. Evaluasi Model**\n",
    "Evaluasi dilakukan untuk mengukur performa model pada data validasi. Metode ini membantu memahami seberapa baik model dapat menggeneralisasi data yang tidak dilihat selama pelatihan. Metode evaluasi memberikan nilai:\n",
    "- **Loss**: Tingkat kesalahan model.\n",
    "- **Accuracy**: Persentase prediksi yang benar.\n",
    "\n",
    "---"
   ]
  },
  {
   "cell_type": "code",
   "execution_count": 30,
   "metadata": {},
   "outputs": [
    {
     "name": "stdout",
     "output_type": "stream",
     "text": [
      "\u001b[1m16/16\u001b[0m \u001b[32m━━━━━━━━━━━━━━━━━━━━\u001b[0m\u001b[37m\u001b[0m \u001b[1m1s\u001b[0m 40ms/step - accuracy: 0.6220 - loss: 0.9923\n",
      "Validation Loss: 0.9940649271011353\n",
      "Validation Accuracy: 0.6141732335090637\n"
     ]
    }
   ],
   "source": [
    "# Evaluasi model\n",
    "loss, accuracy = model.evaluate(val_data)\n",
    "print(f\"Validation Loss: {loss}\")\n",
    "print(f\"Validation Accuracy: {accuracy}\")"
   ]
  },
  {
   "cell_type": "markdown",
   "metadata": {},
   "source": [
    "# input"
   ]
  },
  {
   "cell_type": "code",
   "execution_count": 31,
   "metadata": {},
   "outputs": [],
   "source": [
    "import numpy as np\n",
    "from tensorflow.keras.utils import load_img, img_to_array"
   ]
  },
  {
   "cell_type": "markdown",
   "metadata": {},
   "source": [
    "## **6. Prediksi Gambar**\n",
    "Setelah model dilatih, model digunakan untuk memprediksi kategori dari gambar baru. Langkah-langkah prediksi meliputi:\n",
    "1. **Preprocessing Gambar Baru**: Gambar diubah ke ukuran yang sesuai dan di-normalisasi.\n",
    "2. **Prediksi**: Gambar yang telah diproses diberikan ke model untuk menghasilkan prediksi kategori.\n",
    "\n",
    "Prediksi ini membantu dalam memahami bagaimana model mengklasifikasikan gambar di luar data pelatihan.\n",
    "\n",
    "---"
   ]
  },
  {
   "cell_type": "code",
   "execution_count": 32,
   "metadata": {},
   "outputs": [],
   "source": [
    "def preprocess_image(image_path, target_size):\n",
    "    #gambar dari path\n",
    "    img = load_img(image_path, target_size=target_size) \n",
    "    img_array = img_to_array(img) \n",
    "    img_array = img_array / 255.0  \n",
    "    img_array = np.expand_dims(img_array, axis=0) \n",
    "    return img_array"
   ]
  },
  {
   "cell_type": "code",
   "execution_count": 33,
   "metadata": {},
   "outputs": [
    {
     "name": "stdout",
     "output_type": "stream",
     "text": [
      "\u001b[1m1/1\u001b[0m \u001b[32m━━━━━━━━━━━━━━━━━━━━\u001b[0m\u001b[37m\u001b[0m \u001b[1m0s\u001b[0m 93ms/step\n",
      "Prediksi: Logam\n"
     ]
    }
   ],
   "source": [
    "image_path = 'download.jpeg'\n",
    "processed_image = preprocess_image(image_path, target_size=(IMG_HEIGHT, IMG_WIDTH))\n",
    "predictions = model.predict(processed_image)\n",
    "predicted_class = np.argmax(predictions, axis=1) \n",
    "class_labels = ['Kardus', 'Kaca', 'Logam', 'Kertas', 'Plastik', 'Sampah'] \n",
    "print(f\"Prediksi: {class_labels[predicted_class[0]]}\")\n"
   ]
  },
  {
   "cell_type": "code",
   "execution_count": 36,
   "metadata": {},
   "outputs": [
    {
     "data": {
      "text/plain": [
       "['model/model.pkl']"
      ]
     },
     "execution_count": 36,
     "metadata": {},
     "output_type": "execute_result"
    }
   ],
   "source": [
    "# Menyimpan model setelah pelatihan\n",
    "joblib.dump(model, 'model/model.pkl')"
   ]
  }
 ],
 "metadata": {
  "kernelspec": {
   "display_name": "Python 3",
   "language": "python",
   "name": "python3"
  },
  "language_info": {
   "codemirror_mode": {
    "name": "ipython",
    "version": 3
   },
   "file_extension": ".py",
   "mimetype": "text/x-python",
   "name": "python",
   "nbconvert_exporter": "python",
   "pygments_lexer": "ipython3",
   "version": "3.11.9"
  }
 },
 "nbformat": 4,
 "nbformat_minor": 2
}
